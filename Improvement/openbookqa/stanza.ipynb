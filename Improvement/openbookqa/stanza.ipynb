{
 "cells": [
  {
   "cell_type": "code",
   "execution_count": 1,
   "outputs": [],
   "source": [
    "from stanfordcorenlp import StanfordCoreNLP"
   ],
   "metadata": {
    "collapsed": false,
    "pycharm": {
     "name": "#%%\n"
    }
   }
  },
  {
   "cell_type": "code",
   "execution_count": 2,
   "outputs": [],
   "source": [
    "import os"
   ],
   "metadata": {
    "collapsed": false,
    "pycharm": {
     "name": "#%%\n"
    }
   }
  },
  {
   "cell_type": "code",
   "execution_count": 3,
   "outputs": [
    {
     "data": {
      "text/plain": "'/tmp/pycharm_project_188/model'"
     },
     "execution_count": 3,
     "metadata": {},
     "output_type": "execute_result"
    }
   ],
   "source": [
    "os.chdir('/tmp/pycharm_project_188/model')\n",
    "os.getcwd()"
   ],
   "metadata": {
    "collapsed": false,
    "pycharm": {
     "name": "#%%\n"
    }
   }
  },
  {
   "cell_type": "code",
   "execution_count": 4,
   "outputs": [],
   "source": [
    "nlp = StanfordCoreNLP('stanford-corenlp-4.4.0/')"
   ],
   "metadata": {
    "collapsed": false,
    "pycharm": {
     "name": "#%%\n"
    }
   }
  },
  {
   "cell_type": "code",
   "execution_count": 5,
   "outputs": [],
   "source": [
    "premise_1 = [\"murkiness is a synonym of fog\", \"fog is a synonym of daze\", \"fog is a synonym of obscure\", \"fogginess is a synonym of fog\", \"murk is a synonym of fog\", \"Equisetum palustre is a synonym of marsh horsetail\", \"Iva xanthifolia is a synonym of burweed marsh elder\", \"Campanula aparinoides is a synonym of marsh bellflower\", \"kingcup is a synonym of marsh marigold\", \"fenland is a synonym of marsh\", \"Cygnus columbianus is a synonym of tundra swan\", \"Serengeti Plain is a part of Tanzania\", \"Pedionomus torquatus is a synonym of plain wanderer\", \"plain stitch is a synonym of knit\", \"plain is a synonym of apparently\", \"plain is a synonym of knit\", \"Stanleya pinnata is a synonym of desert plume\", \"poetic jstice is a synonym of deserts\", \"Syrian Desert is a part of Jordan\", \"Sinai is a part of Arabian Desert\", \"Negev Desert is a synonym of Negev\", \"fog is formed by water vapor condensing in the air\", \"if a hot object is touches a cold substance then that substance will likely cool\", \"if a hot substance is touches a cold object then that substance will likely cool\", \"if all members of a species cannot produce offspring then that species will likely become extinct\", \"natural gas is a nonrenewable resource\", \"flood plains are located near rivers\", \"when a river floods , that river deposits sediment in flood plains\", \"a desert environment is dry\", \"some lizards live in desert habitats\", \"a desert environment contains very little food\", \"a desert environment is usually hot in temperature\", \"a desert environment has low rainfall\"]"
   ],
   "metadata": {
    "collapsed": false,
    "pycharm": {
     "name": "#%%\n"
    }
   }
  },
  {
   "cell_type": "code",
   "execution_count": 8,
   "outputs": [],
   "source": [
    "premise_2 = [\"predator is a synonym of marauder\", \"fret is a synonym of eat into\", \"rankle is a synonym of eat into\", \"tuck in entails eat\", \"grate is a synonym of eat into\", \"Leo the Lion is a synonym of Leo\", \"king of beasts is a synonym of lion\", \"Lion is a synonym of Leo\", \"lion marmoset is a synonym of tamarin\", \"Panthera leo is a synonym of lion\", \"human chorionic gonadotrophin is a synonym of human chorionic gonadotropin\", \"Humulin is a synonym of recombinant human insulin\", \"human palaeontology is a synonym of paleoanthropology\", \"human paleontology is a synonym of paleoanthropology\", \"human ecology is a synonym of demography\", \"bunny rabbit is a synonym of bunny\", \"bunny girl is a synonym of bunny\", \"bunny is a type of rabbit\", \"dallis grass is a synonym of dallisgrass\", \"Xerophyllum tenax is a synonym of squaw grass\", \"kweek is a synonym of Bermuda grass\", \"Pennisetum cenchroides is a synonym of buffel grass\", \"grama grass is a synonym of grama\", \"predators eat other animals\", \"predators eat prey\", \"some birds are predators\", \"carnivores are predators\", \"omnivores are predators\", \"humans sometimes eat seeds\", \"humans eat crops\", \"grass snakes live in grass\"]"
   ],
   "metadata": {
    "collapsed": false,
    "pycharm": {
     "name": "#%%\n"
    }
   }
  },
  {
   "cell_type": "code",
   "execution_count": 9,
   "outputs": [],
   "source": [
    "premise_3 = [\"holm tree is a synonym of holm oak\", \"oak tree is a synonym of oak\", \"sandarac tree is a synonym of sandarac\", \"sapodilla tree is a synonym of sapodilla\", \"sapote is a synonym of marmalade tree\", \"Split is a part of Croatia\", \"split up is a synonym of split\", \"split up is a synonym of divide\", \"split is a synonym of divide\", \"split is a synonym of cleave\", \"horseradish root is a synonym of horseradish\", \"root out is a synonym of uproot\", \"Aletris farinosa is a synonym of ague root\", \"root is a part of rootage\", \"turmeric root is a synonym of goldenseal\", \"ferroconcrete is a synonym of reinforced concrete\", \"concrete representation is a synonym of concretism\", \"reinforced concrete is a type of concrete\", \"break out is a synonym of break\", \"break up is a synonym of adjourn\", \"go to pieces is a synonym of fall apart\", \"fall apart is a synonym of break\", \"mandrake is a synonym of mandrake root\", \"Derris elliptica is a synonym of derris root\", \"senga root is a synonym of Seneca snakeroot\", \"if a tree is located near a sidewalk then the roots of that tree might crack the sidewalk\", \"a plant 's roots slowly break down rocks as the roots grow\", \"roots anchor plants into the soil\", \"plants absorb nutrients from soil into themselves through their roots\", \"if a tree falls then that tree is dead\", \"if a tree is cut down then that tree will die\", \"a tree can be replaced by planting a new tree\", \"photosynthesis means producers convert from carbon dioxide, water, and solar energy into food for themselves\", \"sugars are transported from the leaves to the roots of a plant\", \"break down means change from a whole into pieces\", \"an organism breaks down sugar to release energy\", \"the digestive system breaks food into nutrients for the body\"]"
   ],
   "metadata": {
    "collapsed": false,
    "pycharm": {
     "name": "#%%\n"
    }
   }
  },
  {
   "cell_type": "code",
   "execution_count": 10,
   "outputs": [],
   "source": [
    "premise_4 = [\"electric car is a synonym of electric\", \"electric is a type of car\", \"electric razor is a synonym of shaver\", \"electric is a synonym of galvanising\", \"electric doublet is a synonym of electric dipole\", \"gasolene is a synonym of gasoline\", \"leaded gasoline is a type of gasoline\", \"unleaded gasoline is a type of gasoline\", \"gasoline gage is a synonym of gasoline gauge\", \"gas is a synonym of gasoline\", \"powerhouse is a synonym of power station\", \"turbogenerator is a part of power station\", \"busbar is a part of power station\", \"power plant is a synonym of power station\", \"power station is a type of station\", \"director is a synonym of conductor\", \"electrical relay is a synonym of relay\", \"EE is a synonym of electrical engineering\", \"electrical elastance is a synonym of elastance\", \"electrical distributor is a synonym of distributor\", \"fuel injection system is a synonym of fuel injection\", \"fuel line is a part of fuel system\", \"fuel filter is a part of fuel system\", \"fuel gauge is a part of fuel system\", \"fire is a synonym of fuel\", \"an electric car uses less gasoline than a regular car\", \"an electric car contains an electric motor\", \"sending electricity through a conductor causes electric current to flow through that conductor\", \"sending electricity through a conductor causes electricity to flow through that conductor\", \"an incandescent light bulb converts electricity into heat by sending electricity through a filament\", \"as mileage per galon of gasoline increases , the amount of gasoline used will decrease\", \"oil is a source of gasoline\", \"electricity causes less pollution than gasoline\", \"burning gasoline is a source of pollution\", \"coal is used to produce electricity by burning in coal-fire power stations\", \"water is an electrical conductor\", \"if one electrical conductor contacts another electrical conductor then electricity will flow through both conductors\", \"metal is an electrical energy conductor\", \"An electrical conductor is a vehicle for the flow of electricity\", \"wiring requires an electrical conductor\", \"An example of creating an alternative fuel is turning plant material into fuel\", \"An example of conservation is not using fossil fuel\", \"fossil fuels are a nonrenewable resource\"]"
   ],
   "metadata": {
    "collapsed": false,
    "pycharm": {
     "name": "#%%\n"
    }
   }
  },
  {
   "cell_type": "code",
   "execution_count": 11,
   "outputs": [],
   "source": [
    "premise_5 =[\"rain forest is a type of forest\", \"tropical rain forest is a type of rain forest\", \"ambience is a synonym of atmosphere\", \"ambiance is a synonym of atmosphere\", \"mesosphere is a part of atmosphere\", \"liquid oxygen is a type of oxygen\", \"LOX is a synonym of liquid oxygen\", \"oxygen deficit is a type of deficit\", \"oxygen acid is a synonym of oxyacid\", \"oxygen is a type of gas\", \"liquid nitrogen is a type of nitrogen\", \"azote is a type of nitrogen\", \"nitrogen trichloride is a type of trichloride\", \"nitrogen narcosis is a type of narcosis\", \"liquid nitrogen is a type of cryogen\", \"nanotube is a synonym of carbon nanotube\", \"carbon dichloride is a synonym of tetrachlorethylene\", \"carbon tet is a synonym of carbon tetrachloride\", \"tetrachloromethane is a synonym of carbon tetrachloride\", \"perchloromethane is a synonym of carbon tetrachloride\", \"pelting is a synonym of rain\", \"rain down is a synonym of rain\", \"rain gage is a synonym of rain gauge\", \"Albizia saman is a synonym of rain tree\", \"zaman is a synonym of rain tree\", \"as the population of plants decreases , carbon in the atmosphere will increase\", \"as air pressure decreases , the chance of rain will increase\", \"a plane travels through the atmosphere\", \"water vapor is found in the atmosphere\", \"as depth increases , pressure will increase\", \"breathing is when a lung converts from oxygen in air into oxygen in blood\", \"plants are a source of oxygen through photosynthesis\", \"an animal requires oxygen for to breathe\", \"the respiratory system takes in oxygen from the air\", \"blood absorbs oxygen in the lungs\", \"the atmosphere is made of 78% nitrogen\", \"carbon steel is always magnetic\", \"carbon dioxide can be found in the air\", \"biofuel releases carbon dioxide into the atmosphere\", \"the greenhouse effect is when carbon in the air heats a planet 's atmosphere\", \"rain is a source of water\", \"clouds produce rain\", \"sunlight and rain can cause a rainbow\", \"wind and rain cause erosion\"]"
   ],
   "metadata": {
    "collapsed": false,
    "pycharm": {
     "name": "#%%\n"
    }
   }
  },
  {
   "cell_type": "code",
   "execution_count": 12,
   "outputs": [
    {
     "name": "stdout",
     "output_type": "stream",
     "text": [
      "murkiness is a synonym of fog\n",
      "[('ROOT', 0, 4), ('nsubj', 4, 1), ('cop', 4, 2), ('det', 4, 3), ('case', 6, 5), ('nmod', 4, 6)]\n",
      "fog is a synonym of daze\n",
      "[('ROOT', 0, 4), ('nsubj', 4, 1), ('cop', 4, 2), ('det', 4, 3), ('case', 6, 5), ('nmod', 4, 6)]\n",
      "fog is a synonym of obscure\n",
      "[('ROOT', 0, 4), ('nsubj', 4, 1), ('cop', 4, 2), ('det', 4, 3), ('case', 6, 5), ('nmod', 4, 6)]\n",
      "fogginess is a synonym of fog\n",
      "[('ROOT', 0, 4), ('nsubj', 4, 1), ('cop', 4, 2), ('det', 4, 3), ('case', 6, 5), ('nmod', 4, 6)]\n",
      "murk is a synonym of fog\n",
      "[('ROOT', 0, 4), ('nsubj', 4, 1), ('cop', 4, 2), ('det', 4, 3), ('case', 6, 5), ('nmod', 4, 6)]\n",
      "Equisetum palustre is a synonym of marsh horsetail\n",
      "[('ROOT', 0, 5), ('compound', 2, 1), ('nsubj', 5, 2), ('cop', 5, 3), ('det', 5, 4), ('case', 8, 6), ('compound', 8, 7), ('nmod', 5, 8)]\n",
      "Iva xanthifolia is a synonym of burweed marsh elder\n",
      "[('ROOT', 0, 5), ('compound', 2, 1), ('nsubj', 5, 2), ('cop', 5, 3), ('det', 5, 4), ('case', 9, 6), ('compound', 8, 7), ('compound', 9, 8), ('nmod', 5, 9)]\n",
      "Campanula aparinoides is a synonym of marsh bellflower\n",
      "[('ROOT', 0, 5), ('compound', 2, 1), ('nsubj', 5, 2), ('cop', 5, 3), ('det', 5, 4), ('case', 8, 6), ('compound', 8, 7), ('nmod', 5, 8)]\n",
      "kingcup is a synonym of marsh marigold\n",
      "[('ROOT', 0, 4), ('nsubj', 4, 1), ('cop', 4, 2), ('det', 4, 3), ('case', 7, 5), ('compound', 7, 6), ('nmod', 4, 7)]\n",
      "fenland is a synonym of marsh\n",
      "[('ROOT', 0, 4), ('nsubj', 4, 1), ('cop', 4, 2), ('det', 4, 3), ('case', 6, 5), ('nmod', 4, 6)]\n",
      "Cygnus columbianus is a synonym of tundra swan\n",
      "[('ROOT', 0, 5), ('compound', 2, 1), ('nsubj', 5, 2), ('cop', 5, 3), ('det', 5, 4), ('case', 8, 6), ('compound', 8, 7), ('nmod', 5, 8)]\n",
      "Serengeti Plain is a part of Tanzania\n",
      "[('ROOT', 0, 5), ('compound', 2, 1), ('nsubj', 5, 2), ('cop', 5, 3), ('det', 5, 4), ('case', 7, 6), ('nmod', 5, 7)]\n",
      "Pedionomus torquatus is a synonym of plain wanderer\n",
      "[('ROOT', 0, 5), ('compound', 2, 1), ('nsubj', 5, 2), ('cop', 5, 3), ('det', 5, 4), ('case', 8, 6), ('amod', 8, 7), ('nmod', 5, 8)]\n",
      "plain stitch is a synonym of knit\n",
      "[('ROOT', 0, 5), ('advmod', 2, 1), ('nsubj', 5, 2), ('cop', 5, 3), ('det', 5, 4), ('case', 7, 6), ('nmod', 5, 7)]\n",
      "plain is a synonym of apparently\n",
      "[('ROOT', 0, 4), ('advmod', 4, 1), ('cop', 4, 2), ('det', 4, 3), ('case', 6, 5), ('nmod', 4, 6)]\n",
      "plain is a synonym of knit\n",
      "[('ROOT', 0, 4), ('advmod', 4, 1), ('cop', 4, 2), ('det', 4, 3), ('case', 6, 5), ('nmod', 4, 6)]\n",
      "Stanleya pinnata is a synonym of desert plume\n",
      "[('ROOT', 0, 5), ('compound', 2, 1), ('nsubj', 5, 2), ('cop', 5, 3), ('det', 5, 4), ('case', 8, 6), ('compound', 8, 7), ('nmod', 5, 8)]\n",
      "poetic jstice is a synonym of deserts\n",
      "[('ROOT', 0, 5), ('amod', 2, 1), ('nsubj', 5, 2), ('cop', 5, 3), ('det', 5, 4), ('case', 7, 6), ('nmod', 5, 7)]\n",
      "Syrian Desert is a part of Jordan\n",
      "[('ROOT', 0, 5), ('amod', 2, 1), ('nsubj', 5, 2), ('cop', 5, 3), ('det', 5, 4), ('case', 7, 6), ('nmod', 5, 7)]\n",
      "Sinai is a part of Arabian Desert\n",
      "[('ROOT', 0, 4), ('nsubj', 4, 1), ('cop', 4, 2), ('det', 4, 3), ('case', 7, 5), ('compound', 7, 6), ('nmod', 4, 7)]\n",
      "Negev Desert is a synonym of Negev\n",
      "[('ROOT', 0, 5), ('compound', 2, 1), ('nsubj', 5, 2), ('cop', 5, 3), ('det', 5, 4), ('case', 7, 6), ('nmod', 5, 7)]\n",
      "fog is formed by water vapor condensing in the air\n",
      "[('ROOT', 0, 3), ('nsubj:pass', 3, 1), ('aux:pass', 3, 2), ('case', 6, 4), ('compound', 6, 5), ('obl', 3, 6), ('acl', 6, 7), ('case', 10, 8), ('det', 10, 9), ('obl', 7, 10)]\n",
      "if a hot object is touches a cold substance then that substance will likely cool\n",
      "[('ROOT', 0, 15), ('mark', 6, 1), ('det', 4, 2), ('amod', 4, 3), ('nsubj', 6, 4), ('aux', 6, 5), ('advcl', 15, 6), ('det', 9, 7), ('amod', 9, 8), ('obj', 6, 9), ('advmod', 15, 10), ('mark', 15, 11), ('nsubj', 15, 12), ('aux', 15, 13), ('advmod', 15, 14)]\n",
      "if a hot substance is touches a cold object then that substance will likely cool\n",
      "[('ROOT', 0, 15), ('mark', 6, 1), ('det', 4, 2), ('amod', 4, 3), ('nsubj', 6, 4), ('aux', 6, 5), ('advcl', 15, 6), ('det', 9, 7), ('amod', 9, 8), ('obj', 6, 9), ('advmod', 15, 10), ('mark', 15, 11), ('nsubj', 15, 12), ('aux', 15, 13), ('advmod', 15, 14)]\n",
      "if all members of a species cannot produce offspring then that species will likely become extinct\n",
      "[('ROOT', 0, 9), ('mark', 9, 1), ('det', 3, 2), ('nsubj', 9, 3), ('case', 6, 4), ('det', 6, 5), ('nmod', 3, 6), ('aux', 9, 7), ('advmod', 9, 8), ('obj', 9, 10), ('advmod', 9, 11), ('mark', 16, 12), ('nsubj', 16, 13), ('aux', 16, 14), ('advmod', 16, 15), ('ccomp', 9, 16), ('xcomp', 16, 17)]\n",
      "natural gas is a nonrenewable resource\n",
      "[('ROOT', 0, 6), ('amod', 2, 1), ('nsubj', 6, 2), ('cop', 6, 3), ('det', 6, 4), ('amod', 6, 5)]\n",
      "flood plains are located near rivers\n",
      "[('ROOT', 0, 4), ('compound', 2, 1), ('nsubj:pass', 4, 2), ('aux:pass', 4, 3), ('case', 6, 5), ('obl', 4, 6)]\n",
      "when a river floods , that river deposits sediment in flood plains\n",
      "[('ROOT', 0, 1), ('det', 4, 2), ('compound', 4, 3), ('dep', 1, 4), ('punct', 4, 5), ('dep', 4, 6), ('compound', 8, 7), ('compound', 9, 8), ('dep', 6, 9), ('case', 12, 10), ('compound', 12, 11), ('nmod', 9, 12)]\n",
      "a desert environment is dry\n",
      "[('ROOT', 0, 5), ('det', 3, 1), ('compound', 3, 2), ('nsubj', 5, 3), ('cop', 5, 4)]\n",
      "some lizards live in desert habitats\n",
      "[('ROOT', 0, 3), ('det', 2, 1), ('nsubj', 3, 2), ('case', 6, 4), ('compound', 6, 5), ('obl', 3, 6)]\n",
      "a desert environment contains very little food\n",
      "[('ROOT', 0, 4), ('det', 3, 1), ('compound', 3, 2), ('nsubj', 4, 3), ('advmod', 6, 5), ('amod', 7, 6), ('obj', 4, 7)]\n",
      "a desert environment is usually hot in temperature\n",
      "[('ROOT', 0, 6), ('det', 3, 1), ('compound', 3, 2), ('nsubj', 6, 3), ('cop', 6, 4), ('advmod', 6, 5), ('case', 8, 7), ('obl', 6, 8)]\n",
      "a desert environment has low rainfall\n",
      "[('ROOT', 0, 4), ('det', 3, 1), ('compound', 3, 2), ('nsubj', 4, 3), ('amod', 6, 5), ('obj', 4, 6)]\n"
     ]
    }
   ],
   "source": [
    "for i in premise_1:\n",
    "    print(i)\n",
    "    print(nlp.dependency_parse(i))"
   ],
   "metadata": {
    "collapsed": false,
    "pycharm": {
     "name": "#%%\n"
    }
   }
  },
  {
   "cell_type": "code",
   "execution_count": 13,
   "outputs": [
    {
     "name": "stdout",
     "output_type": "stream",
     "text": [
      "predator is a synonym of marauder\n",
      "[('ROOT', 0, 4), ('nsubj', 4, 1), ('cop', 4, 2), ('det', 4, 3), ('case', 6, 5), ('nmod', 4, 6)]\n",
      "fret is a synonym of eat into\n",
      "[('ROOT', 0, 4), ('nsubj', 4, 1), ('cop', 4, 2), ('det', 4, 3), ('case', 6, 5), ('nmod', 4, 6), ('dep', 4, 7)]\n",
      "rankle is a synonym of eat into\n",
      "[('ROOT', 0, 4), ('nsubj', 4, 1), ('cop', 4, 2), ('det', 4, 3), ('case', 6, 5), ('nmod', 4, 6), ('dep', 4, 7)]\n",
      "tuck in entails eat\n",
      "[('ROOT', 0, 4), ('nsubj', 4, 1), ('case', 3, 2), ('nmod', 1, 3)]\n",
      "grate is a synonym of eat into\n",
      "[('ROOT', 0, 4), ('nsubj', 4, 1), ('cop', 4, 2), ('det', 4, 3), ('case', 6, 5), ('nmod', 4, 6), ('dep', 4, 7)]\n",
      "Leo the Lion is a synonym of Leo\n",
      "[('ROOT', 0, 6), ('compound', 3, 1), ('det', 3, 2), ('nsubj', 6, 3), ('cop', 6, 4), ('det', 6, 5), ('case', 8, 7), ('nmod', 6, 8)]\n",
      "king of beasts is a synonym of lion\n",
      "[('ROOT', 0, 6), ('nsubj', 6, 1), ('case', 3, 2), ('nmod', 1, 3), ('cop', 6, 4), ('det', 6, 5), ('case', 8, 7), ('nmod', 6, 8)]\n",
      "Lion is a synonym of Leo\n",
      "[('ROOT', 0, 4), ('nsubj', 4, 1), ('cop', 4, 2), ('det', 4, 3), ('case', 6, 5), ('nmod', 4, 6)]\n",
      "lion marmoset is a synonym of tamarin\n",
      "[('ROOT', 0, 5), ('compound', 2, 1), ('nsubj', 5, 2), ('cop', 5, 3), ('det', 5, 4), ('case', 7, 6), ('nmod', 5, 7)]\n",
      "Panthera leo is a synonym of lion\n",
      "[('ROOT', 0, 5), ('compound', 2, 1), ('nsubj', 5, 2), ('cop', 5, 3), ('det', 5, 4), ('case', 7, 6), ('nmod', 5, 7)]\n",
      "human chorionic gonadotrophin is a synonym of human chorionic gonadotropin\n",
      "[('ROOT', 0, 6), ('amod', 3, 1), ('amod', 3, 2), ('nsubj', 6, 3), ('cop', 6, 4), ('det', 6, 5), ('case', 10, 7), ('amod', 10, 8), ('amod', 10, 9), ('nmod', 6, 10)]\n",
      "Humulin is a synonym of recombinant human insulin\n",
      "[('ROOT', 0, 4), ('nsubj', 4, 1), ('cop', 4, 2), ('det', 4, 3), ('case', 8, 5), ('amod', 8, 6), ('amod', 8, 7), ('nmod', 4, 8)]\n",
      "human palaeontology is a synonym of paleoanthropology\n",
      "[('ROOT', 0, 5), ('amod', 2, 1), ('nsubj', 5, 2), ('cop', 5, 3), ('det', 5, 4), ('case', 7, 6), ('nmod', 5, 7)]\n",
      "human paleontology is a synonym of paleoanthropology\n",
      "[('ROOT', 0, 5), ('amod', 2, 1), ('nsubj', 5, 2), ('cop', 5, 3), ('det', 5, 4), ('case', 7, 6), ('nmod', 5, 7)]\n",
      "human ecology is a synonym of demography\n",
      "[('ROOT', 0, 5), ('amod', 2, 1), ('nsubj', 5, 2), ('cop', 5, 3), ('det', 5, 4), ('case', 7, 6), ('nmod', 5, 7)]\n",
      "bunny rabbit is a synonym of bunny\n",
      "[('ROOT', 0, 5), ('compound', 2, 1), ('nsubj', 5, 2), ('cop', 5, 3), ('det', 5, 4), ('case', 7, 6), ('nmod', 5, 7)]\n",
      "bunny girl is a synonym of bunny\n",
      "[('ROOT', 0, 5), ('compound', 2, 1), ('nsubj', 5, 2), ('cop', 5, 3), ('det', 5, 4), ('case', 7, 6), ('nmod', 5, 7)]\n",
      "bunny is a type of rabbit\n",
      "[('ROOT', 0, 4), ('nsubj', 4, 1), ('cop', 4, 2), ('det', 4, 3), ('case', 6, 5), ('nmod', 4, 6)]\n",
      "dallis grass is a synonym of dallisgrass\n",
      "[('ROOT', 0, 5), ('compound', 2, 1), ('nsubj', 5, 2), ('cop', 5, 3), ('det', 5, 4), ('case', 7, 6), ('nmod', 5, 7)]\n",
      "Xerophyllum tenax is a synonym of squaw grass\n",
      "[('ROOT', 0, 5), ('compound', 2, 1), ('nsubj', 5, 2), ('cop', 5, 3), ('det', 5, 4), ('case', 8, 6), ('compound', 8, 7), ('nmod', 5, 8)]\n",
      "kweek is a synonym of Bermuda grass\n",
      "[('ROOT', 0, 4), ('nsubj', 4, 1), ('cop', 4, 2), ('det', 4, 3), ('case', 7, 5), ('compound', 7, 6), ('nmod', 4, 7)]\n",
      "Pennisetum cenchroides is a synonym of buffel grass\n",
      "[('ROOT', 0, 5), ('compound', 2, 1), ('nsubj', 5, 2), ('cop', 5, 3), ('det', 5, 4), ('case', 8, 6), ('compound', 8, 7), ('nmod', 5, 8)]\n",
      "grama grass is a synonym of grama\n",
      "[('ROOT', 0, 5), ('compound', 2, 1), ('nsubj', 5, 2), ('cop', 5, 3), ('det', 5, 4), ('case', 7, 6), ('nmod', 5, 7)]\n",
      "predators eat other animals\n",
      "[('ROOT', 0, 2), ('nsubj', 2, 1), ('amod', 4, 3), ('obj', 2, 4)]\n",
      "predators eat prey\n",
      "[('ROOT', 0, 2), ('nsubj', 2, 1), ('obj', 2, 3)]\n",
      "some birds are predators\n",
      "[('ROOT', 0, 4), ('det', 2, 1), ('nsubj', 4, 2), ('cop', 4, 3)]\n",
      "carnivores are predators\n",
      "[('ROOT', 0, 3), ('nsubj', 3, 1), ('cop', 3, 2)]\n",
      "omnivores are predators\n",
      "[('ROOT', 0, 3), ('nsubj', 3, 1), ('cop', 3, 2)]\n",
      "humans sometimes eat seeds\n",
      "[('ROOT', 0, 3), ('nsubj', 3, 1), ('advmod', 3, 2), ('obj', 3, 4)]\n",
      "humans eat crops\n",
      "[('ROOT', 0, 2), ('nsubj', 2, 1), ('obj', 2, 3)]\n",
      "grass snakes live in grass\n",
      "[('ROOT', 0, 3), ('compound', 2, 1), ('nsubj', 3, 2), ('case', 5, 4), ('obl', 3, 5)]\n"
     ]
    }
   ],
   "source": [
    "for i in premise_2:\n",
    "    print(i)\n",
    "    print(nlp.dependency_parse(i))"
   ],
   "metadata": {
    "collapsed": false,
    "pycharm": {
     "name": "#%%\n"
    }
   }
  },
  {
   "cell_type": "code",
   "execution_count": 14,
   "outputs": [
    {
     "name": "stdout",
     "output_type": "stream",
     "text": [
      "holm tree is a synonym of holm oak\n",
      "[('ROOT', 0, 5), ('compound', 2, 1), ('nsubj', 5, 2), ('cop', 5, 3), ('det', 5, 4), ('case', 8, 6), ('compound', 8, 7), ('nmod', 5, 8)]\n",
      "oak tree is a synonym of oak\n",
      "[('ROOT', 0, 5), ('compound', 2, 1), ('nsubj', 5, 2), ('cop', 5, 3), ('det', 5, 4), ('case', 7, 6), ('nmod', 5, 7)]\n",
      "sandarac tree is a synonym of sandarac\n",
      "[('ROOT', 0, 5), ('amod', 2, 1), ('nsubj', 5, 2), ('cop', 5, 3), ('det', 5, 4), ('case', 7, 6), ('nmod', 5, 7)]\n",
      "sapodilla tree is a synonym of sapodilla\n",
      "[('ROOT', 0, 5), ('amod', 2, 1), ('nsubj', 5, 2), ('cop', 5, 3), ('det', 5, 4), ('case', 7, 6), ('nmod', 5, 7)]\n",
      "sapote is a synonym of marmalade tree\n",
      "[('ROOT', 0, 4), ('nsubj', 4, 1), ('cop', 4, 2), ('det', 4, 3), ('case', 7, 5), ('compound', 7, 6), ('nmod', 4, 7)]\n",
      "Split is a part of Croatia\n",
      "[('ROOT', 0, 4), ('nsubj', 4, 1), ('cop', 4, 2), ('det', 4, 3), ('case', 6, 5), ('nmod', 4, 6)]\n",
      "split up is a synonym of split\n",
      "[('ROOT', 0, 5), ('nsubj', 5, 1), ('compound:prt', 1, 2), ('cop', 5, 3), ('det', 5, 4), ('case', 7, 6), ('nmod', 5, 7)]\n",
      "split up is a synonym of divide\n",
      "[('ROOT', 0, 5), ('nsubj', 5, 1), ('compound:prt', 1, 2), ('cop', 5, 3), ('det', 5, 4), ('case', 7, 6), ('nmod', 5, 7)]\n",
      "split is a synonym of divide\n",
      "[('ROOT', 0, 4), ('nsubj', 4, 1), ('cop', 4, 2), ('det', 4, 3), ('case', 6, 5), ('nmod', 4, 6)]\n",
      "split is a synonym of cleave\n",
      "[('ROOT', 0, 4), ('nsubj', 4, 1), ('cop', 4, 2), ('det', 4, 3), ('case', 6, 5), ('nmod', 4, 6)]\n",
      "horseradish root is a synonym of horseradish\n",
      "[('ROOT', 0, 5), ('compound', 2, 1), ('nsubj', 5, 2), ('cop', 5, 3), ('det', 5, 4), ('case', 7, 6), ('nmod', 5, 7)]\n",
      "root out is a synonym of uproot\n",
      "[('ROOT', 0, 5), ('compound', 2, 1), ('nsubj', 5, 2), ('cop', 5, 3), ('det', 5, 4), ('case', 7, 6), ('nmod', 5, 7)]\n",
      "Aletris farinosa is a synonym of ague root\n",
      "[('ROOT', 0, 5), ('compound', 2, 1), ('nsubj', 5, 2), ('cop', 5, 3), ('det', 5, 4), ('case', 8, 6), ('amod', 8, 7), ('nmod', 5, 8)]\n",
      "root is a part of rootage\n",
      "[('ROOT', 0, 4), ('nsubj', 4, 1), ('cop', 4, 2), ('det', 4, 3), ('case', 6, 5), ('nmod', 4, 6)]\n",
      "turmeric root is a synonym of goldenseal\n",
      "[('ROOT', 0, 5), ('amod', 2, 1), ('nsubj', 5, 2), ('cop', 5, 3), ('det', 5, 4), ('case', 7, 6), ('nmod', 5, 7)]\n",
      "ferroconcrete is a synonym of reinforced concrete\n",
      "[('ROOT', 0, 4), ('nsubj', 4, 1), ('cop', 4, 2), ('det', 4, 3), ('case', 7, 5), ('amod', 7, 6), ('nmod', 4, 7)]\n",
      "concrete representation is a synonym of concretism\n",
      "[('ROOT', 0, 5), ('amod', 2, 1), ('nsubj', 5, 2), ('cop', 5, 3), ('det', 5, 4), ('case', 7, 6), ('nmod', 5, 7)]\n",
      "reinforced concrete is a type of concrete\n",
      "[('ROOT', 0, 5), ('amod', 2, 1), ('nsubj', 5, 2), ('cop', 5, 3), ('det', 5, 4), ('case', 7, 6), ('nmod', 5, 7)]\n",
      "break out is a synonym of break\n",
      "[('ROOT', 0, 5), ('nsubj', 5, 1), ('compound:prt', 1, 2), ('cop', 5, 3), ('det', 5, 4), ('case', 7, 6), ('nmod', 5, 7)]\n",
      "break up is a synonym of adjourn\n",
      "[('ROOT', 0, 5), ('nsubj', 5, 1), ('compound:prt', 1, 2), ('cop', 5, 3), ('det', 5, 4), ('case', 7, 6), ('nmod', 5, 7)]\n",
      "go to pieces is a synonym of fall apart\n",
      "[('ROOT', 0, 6), ('dep', 6, 1), ('case', 3, 2), ('obl', 1, 3), ('cop', 6, 4), ('det', 6, 5), ('case', 8, 7), ('nmod', 6, 8), ('advmod', 6, 9)]\n",
      "fall apart is a synonym of break\n",
      "[('ROOT', 0, 5), ('nsubj', 5, 1), ('advmod', 1, 2), ('cop', 5, 3), ('det', 5, 4), ('case', 7, 6), ('nmod', 5, 7)]\n",
      "mandrake is a synonym of mandrake root\n",
      "[('ROOT', 0, 4), ('nsubj', 4, 1), ('cop', 4, 2), ('det', 4, 3), ('case', 7, 5), ('compound', 7, 6), ('nmod', 4, 7)]\n",
      "Derris elliptica is a synonym of derris root\n",
      "[('ROOT', 0, 5), ('compound', 2, 1), ('nsubj', 5, 2), ('cop', 5, 3), ('det', 5, 4), ('case', 8, 6), ('compound', 8, 7), ('nmod', 5, 8)]\n",
      "senga root is a synonym of Seneca snakeroot\n",
      "[('ROOT', 0, 5), ('compound', 2, 1), ('nsubj', 5, 2), ('cop', 5, 3), ('det', 5, 4), ('case', 8, 6), ('compound', 8, 7), ('nmod', 5, 8)]\n",
      "if a tree is located near a sidewalk then the roots of that tree might crack the sidewalk\n",
      "[('ROOT', 0, 16), ('mark', 5, 1), ('det', 3, 2), ('nsubj:pass', 5, 3), ('aux:pass', 5, 4), ('advcl', 16, 5), ('case', 8, 6), ('det', 8, 7), ('obl', 5, 8), ('advmod', 11, 9), ('det', 11, 10), ('nsubj', 16, 11), ('case', 14, 12), ('det', 14, 13), ('nmod', 11, 14), ('aux', 16, 15), ('det', 18, 17), ('obj', 16, 18)]\n",
      "a plant 's roots slowly break down rocks as the roots grow\n",
      "[('ROOT', 0, 6), ('det', 2, 1), ('nmod:poss', 4, 2), ('case', 2, 3), ('nsubj', 6, 4), ('advmod', 6, 5), ('compound:prt', 6, 7), ('obj', 6, 8), ('mark', 12, 9), ('det', 11, 10), ('nsubj', 12, 11), ('advcl', 6, 12)]\n",
      "roots anchor plants into the soil\n",
      "[('ROOT', 0, 2), ('nsubj', 2, 1), ('obj', 2, 3), ('case', 6, 4), ('det', 6, 5), ('obl', 2, 6)]\n",
      "plants absorb nutrients from soil into themselves through their roots\n",
      "[('ROOT', 0, 2), ('nsubj', 2, 1), ('obj', 2, 3), ('case', 5, 4), ('obl', 2, 5), ('case', 7, 6), ('obl', 2, 7), ('case', 10, 8), ('nmod:poss', 10, 9), ('obl', 2, 10)]\n",
      "if a tree falls then that tree is dead\n",
      "[('ROOT', 0, 9), ('mark', 4, 1), ('det', 3, 2), ('nsubj', 4, 3), ('advcl', 9, 4), ('advmod', 4, 5), ('det', 7, 6), ('nsubj', 9, 7), ('cop', 9, 8)]\n",
      "if a tree is cut down then that tree will die\n",
      "[('ROOT', 0, 11), ('mark', 5, 1), ('det', 3, 2), ('nsubj:pass', 5, 3), ('aux:pass', 5, 4), ('advcl', 11, 5), ('compound:prt', 5, 6), ('advmod', 5, 7), ('det', 9, 8), ('nsubj', 11, 9), ('aux', 11, 10)]\n",
      "a tree can be replaced by planting a new tree\n",
      "[('ROOT', 0, 5), ('det', 2, 1), ('nsubj:pass', 5, 2), ('aux', 5, 3), ('aux:pass', 5, 4), ('case', 7, 6), ('advcl', 5, 7), ('det', 10, 8), ('amod', 10, 9), ('obj', 7, 10)]\n",
      "photosynthesis means producers convert from carbon dioxide, water, and solar energy into food for themselves\n",
      "[('ROOT', 0, 2), ('nsubj', 2, 1), ('nsubj', 4, 3), ('ccomp', 2, 4), ('case', 7, 5), ('compound', 7, 6), ('obl', 4, 7), ('punct', 7, 8), ('conj', 7, 9), ('punct', 7, 10), ('cc', 13, 11), ('amod', 13, 12), ('conj', 7, 13), ('case', 15, 14), ('obl', 4, 15), ('case', 17, 16), ('obl', 4, 17)]\n",
      "sugars are transported from the leaves to the roots of a plant\n",
      "[('ROOT', 0, 3), ('nsubj:pass', 3, 1), ('aux:pass', 3, 2), ('case', 6, 4), ('det', 6, 5), ('obl', 3, 6), ('case', 9, 7), ('det', 9, 8), ('obl', 3, 9), ('case', 12, 10), ('det', 12, 11), ('nmod', 9, 12)]\n",
      "break down means change from a whole into pieces\n",
      "[('ROOT', 0, 1), ('compound:prt', 1, 2), ('nsubj', 4, 3), ('ccomp', 1, 4), ('case', 7, 5), ('det', 7, 6), ('obl', 4, 7), ('case', 9, 8), ('obl', 4, 9)]\n",
      "an organism breaks down sugar to release energy\n",
      "[('ROOT', 0, 3), ('det', 2, 1), ('nsubj', 3, 2), ('compound:prt', 3, 4), ('obj', 3, 5), ('mark', 7, 6), ('xcomp', 3, 7), ('obj', 7, 8)]\n",
      "the digestive system breaks food into nutrients for the body\n",
      "[('ROOT', 0, 4), ('det', 3, 1), ('amod', 3, 2), ('nsubj', 4, 3), ('obj', 4, 5), ('case', 7, 6), ('obl', 4, 7), ('case', 10, 8), ('det', 10, 9), ('nmod', 7, 10)]\n"
     ]
    }
   ],
   "source": [
    "for i in premise_3:\n",
    "    print(i)\n",
    "    print(nlp.dependency_parse(i))"
   ],
   "metadata": {
    "collapsed": false,
    "pycharm": {
     "name": "#%%\n"
    }
   }
  },
  {
   "cell_type": "code",
   "execution_count": 15,
   "outputs": [
    {
     "name": "stdout",
     "output_type": "stream",
     "text": [
      "electric car is a synonym of electric\n",
      "[('ROOT', 0, 5), ('amod', 2, 1), ('nsubj', 5, 2), ('cop', 5, 3), ('det', 5, 4), ('case', 7, 6), ('nmod', 5, 7)]\n",
      "electric is a type of car\n",
      "[('ROOT', 0, 4), ('nsubj', 4, 1), ('cop', 4, 2), ('det', 4, 3), ('case', 6, 5), ('nmod', 4, 6)]\n",
      "electric razor is a synonym of shaver\n",
      "[('ROOT', 0, 5), ('amod', 2, 1), ('nsubj', 5, 2), ('cop', 5, 3), ('det', 5, 4), ('case', 7, 6), ('nmod', 5, 7)]\n",
      "electric is a synonym of galvanising\n",
      "[('ROOT', 0, 4), ('nsubj', 4, 1), ('cop', 4, 2), ('det', 4, 3), ('case', 6, 5), ('nmod', 4, 6)]\n",
      "electric doublet is a synonym of electric dipole\n",
      "[('ROOT', 0, 5), ('amod', 2, 1), ('nsubj', 5, 2), ('cop', 5, 3), ('det', 5, 4), ('case', 8, 6), ('amod', 8, 7), ('nmod', 5, 8)]\n",
      "gasolene is a synonym of gasoline\n",
      "[('ROOT', 0, 4), ('nsubj', 4, 1), ('cop', 4, 2), ('det', 4, 3), ('case', 6, 5), ('nmod', 4, 6)]\n",
      "leaded gasoline is a type of gasoline\n",
      "[('ROOT', 0, 5), ('amod', 2, 1), ('nsubj', 5, 2), ('cop', 5, 3), ('det', 5, 4), ('case', 7, 6), ('nmod', 5, 7)]\n",
      "unleaded gasoline is a type of gasoline\n",
      "[('ROOT', 0, 5), ('amod', 2, 1), ('nsubj', 5, 2), ('cop', 5, 3), ('det', 5, 4), ('case', 7, 6), ('nmod', 5, 7)]\n",
      "gasoline gage is a synonym of gasoline gauge\n",
      "[('ROOT', 0, 5), ('compound', 2, 1), ('nsubj', 5, 2), ('cop', 5, 3), ('det', 5, 4), ('case', 8, 6), ('compound', 8, 7), ('nmod', 5, 8)]\n",
      "gas is a synonym of gasoline\n",
      "[('ROOT', 0, 4), ('nsubj', 4, 1), ('cop', 4, 2), ('det', 4, 3), ('case', 6, 5), ('nmod', 4, 6)]\n",
      "powerhouse is a synonym of power station\n",
      "[('ROOT', 0, 4), ('nsubj', 4, 1), ('cop', 4, 2), ('det', 4, 3), ('case', 7, 5), ('compound', 7, 6), ('nmod', 4, 7)]\n",
      "turbogenerator is a part of power station\n",
      "[('ROOT', 0, 4), ('nsubj', 4, 1), ('cop', 4, 2), ('det', 4, 3), ('case', 7, 5), ('compound', 7, 6), ('nmod', 4, 7)]\n",
      "busbar is a part of power station\n",
      "[('ROOT', 0, 4), ('nsubj', 4, 1), ('cop', 4, 2), ('det', 4, 3), ('case', 7, 5), ('compound', 7, 6), ('nmod', 4, 7)]\n",
      "power plant is a synonym of power station\n",
      "[('ROOT', 0, 5), ('compound', 2, 1), ('nsubj', 5, 2), ('cop', 5, 3), ('det', 5, 4), ('case', 8, 6), ('compound', 8, 7), ('nmod', 5, 8)]\n",
      "power station is a type of station\n",
      "[('ROOT', 0, 5), ('compound', 2, 1), ('nsubj', 5, 2), ('cop', 5, 3), ('det', 5, 4), ('case', 7, 6), ('nmod', 5, 7)]\n",
      "director is a synonym of conductor\n",
      "[('ROOT', 0, 4), ('nsubj', 4, 1), ('cop', 4, 2), ('det', 4, 3), ('case', 6, 5), ('nmod', 4, 6)]\n",
      "electrical relay is a synonym of relay\n",
      "[('ROOT', 0, 5), ('amod', 2, 1), ('nsubj', 5, 2), ('cop', 5, 3), ('det', 5, 4), ('case', 7, 6), ('nmod', 5, 7)]\n",
      "EE is a synonym of electrical engineering\n",
      "[('ROOT', 0, 4), ('nsubj', 4, 1), ('cop', 4, 2), ('det', 4, 3), ('case', 7, 5), ('amod', 7, 6), ('nmod', 4, 7)]\n",
      "electrical elastance is a synonym of elastance\n",
      "[('ROOT', 0, 5), ('amod', 2, 1), ('nsubj', 5, 2), ('cop', 5, 3), ('det', 5, 4), ('case', 7, 6), ('nmod', 5, 7)]\n",
      "electrical distributor is a synonym of distributor\n",
      "[('ROOT', 0, 5), ('amod', 2, 1), ('nsubj', 5, 2), ('cop', 5, 3), ('det', 5, 4), ('case', 7, 6), ('nmod', 5, 7)]\n",
      "fuel injection system is a synonym of fuel injection\n",
      "[('ROOT', 0, 6), ('compound', 2, 1), ('compound', 3, 2), ('nsubj', 6, 3), ('cop', 6, 4), ('det', 6, 5), ('case', 9, 7), ('compound', 9, 8), ('nmod', 6, 9)]\n",
      "fuel line is a part of fuel system\n",
      "[('ROOT', 0, 5), ('compound', 2, 1), ('nsubj', 5, 2), ('cop', 5, 3), ('det', 5, 4), ('case', 8, 6), ('compound', 8, 7), ('nmod', 5, 8)]\n",
      "fuel filter is a part of fuel system\n",
      "[('ROOT', 0, 5), ('compound', 2, 1), ('nsubj', 5, 2), ('cop', 5, 3), ('det', 5, 4), ('case', 8, 6), ('compound', 8, 7), ('nmod', 5, 8)]\n",
      "fuel gauge is a part of fuel system\n",
      "[('ROOT', 0, 5), ('compound', 2, 1), ('nsubj', 5, 2), ('cop', 5, 3), ('det', 5, 4), ('case', 8, 6), ('compound', 8, 7), ('nmod', 5, 8)]\n",
      "fire is a synonym of fuel\n",
      "[('ROOT', 0, 4), ('nsubj', 4, 1), ('cop', 4, 2), ('det', 4, 3), ('case', 6, 5), ('nmod', 4, 6)]\n",
      "an electric car uses less gasoline than a regular car\n",
      "[('ROOT', 0, 4), ('det', 3, 1), ('amod', 3, 2), ('nsubj', 4, 3), ('amod', 6, 5), ('obj', 4, 6), ('case', 10, 7), ('det', 10, 8), ('amod', 10, 9), ('nmod', 6, 10)]\n",
      "an electric car contains an electric motor\n",
      "[('ROOT', 0, 4), ('det', 3, 1), ('amod', 3, 2), ('nsubj', 4, 3), ('det', 7, 5), ('amod', 7, 6), ('obj', 4, 7)]\n",
      "sending electricity through a conductor causes electric current to flow through that conductor\n",
      "[('ROOT', 0, 6), ('nsubj', 6, 1), ('obj', 1, 2), ('case', 5, 3), ('det', 5, 4), ('obl', 1, 5), ('amod', 8, 7), ('obj', 6, 8), ('mark', 10, 9), ('xcomp', 6, 10), ('case', 13, 11), ('det', 13, 12), ('obl', 10, 13)]\n",
      "sending electricity through a conductor causes electricity to flow through that conductor\n",
      "[('ROOT', 0, 6), ('nsubj', 6, 1), ('obj', 1, 2), ('case', 5, 3), ('det', 5, 4), ('obl', 1, 5), ('obj', 6, 7), ('mark', 9, 8), ('xcomp', 6, 9), ('case', 12, 10), ('det', 12, 11), ('obl', 9, 12)]\n",
      "an incandescent light bulb converts electricity into heat by sending electricity through a filament\n",
      "[('ROOT', 0, 5), ('det', 4, 1), ('amod', 4, 2), ('compound', 4, 3), ('nsubj', 5, 4), ('obj', 5, 6), ('case', 8, 7), ('obl', 5, 8), ('case', 11, 9), ('amod', 11, 10), ('obl', 5, 11), ('case', 14, 12), ('det', 14, 13), ('obl', 5, 14)]\n",
      "as mileage per galon of gasoline increases , the amount of gasoline used will decrease\n",
      "[('ROOT', 0, 13), ('case', 2, 1), ('obl', 13, 2), ('case', 4, 3), ('nmod', 2, 4), ('case', 7, 5), ('compound', 7, 6), ('nmod', 4, 7), ('punct', 13, 8), ('det', 10, 9), ('nsubj', 13, 10), ('case', 12, 11), ('nmod', 10, 12), ('aux', 15, 14), ('dep', 13, 15)]\n",
      "oil is a source of gasoline\n",
      "[('ROOT', 0, 4), ('nsubj', 4, 1), ('cop', 4, 2), ('det', 4, 3), ('case', 6, 5), ('nmod', 4, 6)]\n",
      "electricity causes less pollution than gasoline\n",
      "[('ROOT', 0, 2), ('nsubj', 2, 1), ('amod', 4, 3), ('obj', 2, 4), ('case', 6, 5), ('nmod', 4, 6)]\n",
      "burning gasoline is a source of pollution\n",
      "[('ROOT', 0, 5), ('amod', 2, 1), ('nsubj', 5, 2), ('cop', 5, 3), ('det', 5, 4), ('case', 7, 6), ('nmod', 5, 7)]\n",
      "coal is used to produce electricity by burning in coal-fire power stations\n",
      "[('ROOT', 0, 3), ('nsubj:pass', 3, 1), ('aux:pass', 3, 2), ('mark', 5, 4), ('xcomp', 3, 5), ('obj', 5, 6), ('case', 8, 7), ('obl', 5, 8), ('case', 14, 9), ('compound', 12, 10), ('punct', 12, 11), ('compound', 14, 12), ('compound', 14, 13), ('nmod', 8, 14)]\n",
      "water is an electrical conductor\n",
      "[('ROOT', 0, 5), ('nsubj', 5, 1), ('cop', 5, 2), ('det', 5, 3), ('amod', 5, 4)]\n",
      "if one electrical conductor contacts another electrical conductor then electricity will flow through both conductors\n",
      "[('ROOT', 0, 12), ('mark', 12, 1), ('nummod', 5, 2), ('amod', 4, 3), ('compound', 5, 4), ('nsubj', 12, 5), ('det', 8, 6), ('amod', 8, 7), ('nsubj', 12, 8), ('advmod', 10, 9), ('nmod', 8, 10), ('aux', 12, 11), ('case', 15, 13), ('det', 15, 14), ('obl', 12, 15)]\n",
      "metal is an electrical energy conductor\n",
      "[('ROOT', 0, 6), ('nsubj', 6, 1), ('cop', 6, 2), ('det', 6, 3), ('amod', 6, 4), ('compound', 6, 5)]\n",
      "An electrical conductor is a vehicle for the flow of electricity\n",
      "[('ROOT', 0, 6), ('det', 3, 1), ('amod', 3, 2), ('nsubj', 6, 3), ('cop', 6, 4), ('det', 6, 5), ('case', 9, 7), ('det', 9, 8), ('nmod', 6, 9), ('case', 11, 10), ('nmod', 9, 11)]\n",
      "wiring requires an electrical conductor\n",
      "[('ROOT', 0, 2), ('nsubj', 2, 1), ('det', 5, 3), ('amod', 5, 4), ('obj', 2, 5)]\n",
      "An example of creating an alternative fuel is turning plant material into fuel\n",
      "[('ROOT', 0, 9), ('det', 2, 1), ('nsubj', 9, 2), ('mark', 4, 3), ('acl', 2, 4), ('det', 7, 5), ('amod', 7, 6), ('obj', 4, 7), ('aux', 9, 8), ('compound', 11, 10), ('obj', 9, 11), ('case', 13, 12), ('obl', 9, 13)]\n",
      "An example of conservation is not using fossil fuel\n",
      "[('ROOT', 0, 7), ('det', 2, 1), ('nsubj', 7, 2), ('case', 4, 3), ('nmod', 2, 4), ('aux', 7, 5), ('advmod', 7, 6), ('compound', 9, 8), ('obj', 7, 9)]\n",
      "fossil fuels are a nonrenewable resource\n",
      "[('ROOT', 0, 6), ('amod', 2, 1), ('nsubj', 6, 2), ('cop', 6, 3), ('det', 6, 4), ('amod', 6, 5)]\n"
     ]
    }
   ],
   "source": [
    "for i in premise_4:\n",
    "    print(i)\n",
    "    print(nlp.dependency_parse(i))"
   ],
   "metadata": {
    "collapsed": false,
    "pycharm": {
     "name": "#%%\n"
    }
   }
  },
  {
   "cell_type": "code",
   "execution_count": null,
   "outputs": [],
   "source": [],
   "metadata": {
    "collapsed": false,
    "pycharm": {
     "name": "#%%\n"
    }
   }
  }
 ],
 "metadata": {
  "kernelspec": {
   "display_name": "Python 3",
   "language": "python",
   "name": "python3"
  },
  "language_info": {
   "codemirror_mode": {
    "name": "ipython",
    "version": 2
   },
   "file_extension": ".py",
   "mimetype": "text/x-python",
   "name": "python",
   "nbconvert_exporter": "python",
   "pygments_lexer": "ipython2",
   "version": "2.7.6"
  }
 },
 "nbformat": 4,
 "nbformat_minor": 0
}